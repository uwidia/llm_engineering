{
 "cells": [
  {
   "cell_type": "markdown",
   "id": "fe12c203-e6a6-452c-a655-afb8a03a4ff5",
   "metadata": {},
   "source": [
    "# End of week 1 exercise\n",
    "\n",
    "To demonstrate your familiarity with OpenAI API, and also Ollama, build a tool that takes a technical question,  \n",
    "and responds with an explanation. This is a tool that you will be able to use yourself during the course!"
   ]
  },
  {
   "cell_type": "code",
   "execution_count": 1,
   "id": "c1070317-3ed9-4659-abe3-828943230e03",
   "metadata": {},
   "outputs": [],
   "source": [
    "# imports\n",
    "import os\n",
    "from dotenv import load_dotenv\n",
    "from IPython.display import display, Markdown\n",
    "from openai import OpenAI"
   ]
  },
  {
   "cell_type": "code",
   "execution_count": 2,
   "id": "4a456906-915a-4bfd-bb9d-57e505c5093f",
   "metadata": {},
   "outputs": [],
   "source": [
    "# constants\n",
    "\n",
    "MODEL_GPT = 'gpt-4o-mini'\n",
    "MODEL_GEMINI = 'gemini-2.5-pro'"
   ]
  },
  {
   "cell_type": "code",
   "execution_count": 5,
   "id": "a8d7923c-5f28-4c30-8556-342d7c8497c1",
   "metadata": {},
   "outputs": [
    {
     "name": "stdout",
     "output_type": "stream",
     "text": [
      "Open AI Api key looks good. Lets keep going\n",
      "Checking Gemini....\n",
      "Everything looks good so far. Lets keep going\n"
     ]
    }
   ],
   "source": [
    "# set up environment\n",
    "load_dotenv()\n",
    "openai_api_key = os.getenv(\"OPENAI_API_KEY\")\n",
    "gemini_api_key = os.getenv(\"GEMINI_API_KEY\")\n",
    "GEMINI_BASE_URL = \"https://generativelanguage.googleapis.com/v1beta/openai/\"\n",
    "\n",
    "if openai_api_key and openai_api_key.startswith(\"sk-proj-\") and len(openai_api_key)>10:\n",
    "    print(\"Open AI Api key looks good. Lets keep going\\nChecking Gemini....\")\n",
    "    if gemini_api_key and gemini_api_key.startswith(\"AIzaSyC\") and len(gemini_api_key)>10:\n",
    "        print(\"Everything looks good so far. Lets keep going\")"
   ]
  },
  {
   "cell_type": "code",
   "execution_count": 15,
   "id": "43b1dddb",
   "metadata": {},
   "outputs": [],
   "source": [
    "system_prompt = \"\"\"\n",
    "You're an experienced code reviewer tasked with helping newbie developers understand what their code does. \n",
    "Your job is to explain each code step-by-step while keeping explanations as simple as possible so the newbies can understand.\n",
    "Display your answer in markdown\n",
    "\"\"\""
   ]
  },
  {
   "cell_type": "code",
   "execution_count": null,
   "id": "088fdfee",
   "metadata": {},
   "outputs": [],
   "source": [
    "user_prompt=\"\"\"\"\"\""
   ]
  },
  {
   "cell_type": "code",
   "execution_count": 11,
   "id": "3f0d0137-52b0-47a8-81a8-11a90a010798",
   "metadata": {},
   "outputs": [],
   "source": [
    "# here is the question; type over this to ask something new\n",
    "\n",
    "question = \"\"\"\n",
    "Please explain what this code does and why:\n",
    "yield from {book.get(\"author\") for book in books if book.get(\"author\")}\n",
    "\"\"\"\n",
    "\n",
    "def get_question(question):\n",
    "    messages = [\n",
    "    {\"role\": \"system\", \"content\": system_prompt},\n",
    "    {\"role\": \"user\", \"content\": user_prompt+question}]\n",
    "    return messages \n"
   ]
  },
  {
   "cell_type": "code",
   "execution_count": 12,
   "id": "efd9703b",
   "metadata": {},
   "outputs": [
    {
     "data": {
      "text/plain": [
       "[{'role': 'system',\n",
       "  'content': \"\\nYou're an experienced code reviewer tasked with helping newbie developers understand what their code does. \\nYour job is to explain each code step-by-step while keeping explanations as simple as possible so the newbies can understand.\\n\"},\n",
       " {'role': 'user',\n",
       "  'content': '\\n\\nPlease explain what this code does and why:\\nyield from {book.get(\"author\") for book in books if book.get(\"author\")}\\n'}]"
      ]
     },
     "execution_count": 12,
     "metadata": {},
     "output_type": "execute_result"
    }
   ],
   "source": [
    "get_question(question)"
   ]
  },
  {
   "cell_type": "code",
   "execution_count": null,
   "id": "60ce7000-a4a5-4cce-a261-e75ef45063b4",
   "metadata": {},
   "outputs": [],
   "source": [
    "# Get gpt-4o-mini to answer, with streaming\n",
    "openai = OpenAI()\n",
    "\n",
    "gemini = OpenAI(base_url=GEMINI_BASE_URL, api_key=gemini_api_key)\n",
    "\n",
    "\n"
   ]
  },
  {
   "cell_type": "code",
   "execution_count": 23,
   "id": "711324c1",
   "metadata": {},
   "outputs": [],
   "source": [
    "def get_answer(question):\n",
    "    gpt_response = openai.chat.completions.create(model=MODEL_GPT, messages=get_question(question))\n",
    "    chatgpt_answer = gpt_response.choices[0].message.content\n",
    "\n",
    "    gemini_response = gemini.chat.completions.create(model=MODEL_GEMINI, messages=get_question(question))\n",
    "    gemini_answer = gemini_response.choices[0].message.content\n",
    "\n",
    "    display(Markdown(\"# *ChatGPT's thoughts*\"))\n",
    "    display(Markdown(chatgpt_answer))\n",
    "    display(Markdown(\"# *Gemini's thoughts*\"))\n",
    "    display(Markdown(gemini_answer))"
   ]
  },
  {
   "cell_type": "code",
   "execution_count": 24,
   "id": "8f7c8ea8-4082-4ad0-8751-3301adcf6538",
   "metadata": {},
   "outputs": [
    {
     "data": {
      "text/markdown": [
       "# *ChatGPT's thoughts*"
      ],
      "text/plain": [
       "<IPython.core.display.Markdown object>"
      ]
     },
     "metadata": {},
     "output_type": "display_data"
    },
    {
     "data": {
      "text/markdown": [
       "Sure! Let's break down the code step-by-step.\n",
       "\n",
       "### Code Breakdown\n",
       "\n",
       "```python\n",
       "yield from {book.get(\"author\") for book in books if book.get(\"author\")}\n",
       "```\n",
       "\n",
       "#### 1. **Understanding `books`**\n",
       "- `books` is expected to be a collection (like a list) that contains multiple items, where each item is a dictionary representing a book. For example, a book might look like this:\n",
       "  ```python\n",
       "  {\n",
       "      \"title\": \"The Great Gatsby\",\n",
       "      \"author\": \"F. Scott Fitzgerald\"\n",
       "  }\n",
       "  ```\n",
       "\n",
       "#### 2. **List Comprehension**\n",
       "- The part inside the curly braces `{...}` is a **set comprehension**. It's similar to a list comprehension but creates a set instead of a list.\n",
       "- The code that is run inside the set comprehension is:\n",
       "  ```python\n",
       "  book.get(\"author\") for book in books if book.get(\"author\")\n",
       "  ```\n",
       "  \n",
       "- **Breaking it down further:**\n",
       "  - `for book in books`: This loops through each `book` in the `books` collection.\n",
       "  - `book.get(\"author\")`: This tries to fetch the value associated with the key `\"author\"` from the `book` dictionary. If the author exists, it returns the author's name; if not, it returns `None`.\n",
       "  - `if book.get(\"author\")`: This checks if the author exists (i.e., it's not `None`). If it exists, the author is included; if not, it is skipped.\n",
       "\n",
       "#### 3. **Set Creation**\n",
       "- The entire set comprehension creates a **set** of unique authors for the books where authors exist. A set is useful here because it automatically handles duplicates (if multiple books have the same author, that author will only appear once in the set).\n",
       "\n",
       "#### 4. **Using `yield from`**\n",
       "- The `yield from` statement is used to yield all values from an iterable (in this case, the set we created).\n",
       "- This means that instead of returning one item at a time, it allows a generator to return all the unique authors one-by-one.\n",
       "\n",
       "### Summary\n",
       "So, in summary, this line of code does the following:\n",
       "1. It goes through a collection of `books`, checks each book for an existing author.\n",
       "2. It gathers all unique authors into a set.\n",
       "3. It uses `yield from` to yield each of these authors one by one, allowing them to be processed individually by the calling code.\n",
       "\n",
       "### Why Use It?\n",
       "- This code is useful for extracting and processing all unique authors from a list of books efficiently, particularly when you want to ensure that the final list does not contain any duplicate authors."
      ],
      "text/plain": [
       "<IPython.core.display.Markdown object>"
      ]
     },
     "metadata": {},
     "output_type": "display_data"
    },
    {
     "data": {
      "text/markdown": [
       "# *Gemini's thoughts*"
      ],
      "text/plain": [
       "<IPython.core.display.Markdown object>"
      ]
     },
     "metadata": {},
     "output_type": "display_data"
    },
    {
     "data": {
      "text/markdown": [
       "Of course! Let's break down that line of Python code. It's a very concise and efficient piece of code that does a few things at once.\n",
       "\n",
       "### High-Level Summary\n",
       "\n",
       "In simple terms, this code finds all the **unique** author names from a list of `books` and passes them out one by one. It's designed to be safe (it won't crash if a book has no author) and memory-efficient.\n",
       "\n",
       "### Let's Break It Down Step-by-Step\n",
       "\n",
       "To understand this line, we need to read it from the inside out.\n",
       "\n",
       "Let's imagine you have a list of book dictionaries like this:\n",
       "\n",
       "```python\n",
       "books = [\n",
       "    {\"title\": \"The Hobbit\", \"author\": \"J.R.R. Tolkien\"},\n",
       "    {\"title\": \"Harry Potter\", \"author\": \"J.K. Rowling\"},\n",
       "    {\"title\": \"Fantastic Beasts\", \"author\": \"J.K. Rowling\"}, # A duplicate author\n",
       "    {\"title\": \"A Book with No Author\"}, # A missing author key\n",
       "    {\"title\": \"Another Book\", \"author\": None} # An author key with no value\n",
       "]\n",
       "```\n",
       "\n",
       "The code we are looking at is: `yield from {book.get(\"author\") for book in books if book.get(\"author\")}`\n",
       "\n",
       "---\n",
       "\n",
       "#### Step 1: The Loop `for book in books`\n",
       "\n",
       "This is the simplest part. It just means \"Go through the `books` list, one dictionary at a time.\"\n",
       "\n",
       "-   **First loop:** `book` is `{\"title\": \"The Hobbit\", \"author\": \"J.R.R. Tolkien\"}`\n",
       "-   **Second loop:** `book` is `{\"title\": \"Harry Potter\", \"author\": \"J.K. Rowling\"}`\n",
       "-   ...and so on.\n",
       "\n",
       "---\n",
       "\n",
       "#### Step 2: The Condition `if book.get(\"author\")`\n",
       "\n",
       "For each `book` in the list, this `if` statement checks if the author exists and has a meaningful value.\n",
       "\n",
       "*   `book.get(\"author\")` is a safe way to get a value from a dictionary.\n",
       "    *   If the key `\"author\"` exists, it returns the value (e.g., `\"J.R.R. Tolkien\"`).\n",
       "    *   If the key `\"author\"` **does not exist**, it returns `None` instead of crashing your program. This is why we use `.get()` instead of `book[\"author\"]`.\n",
       "\n",
       "*   The `if` statement then checks if the result is \"truthy\". In Python, `None`, `False`, the number `0`, and empty things (like an empty string `\"\"`) are considered \"falsy\". Everything else is \"truthy\".\n",
       "    *   `\"J.R.R. Tolkien\"` is a non-empty string, so it's **truthy**. The `if` passes.\n",
       "    *   `None` is **falsy**. The `if` fails.\n",
       "\n",
       "Let's see how this works on our `books` list:\n",
       "1.  `book.get(\"author\")` -> `\"J.R.R. Tolkien\"` (Truthy) -> **Pass**\n",
       "2.  `book.get(\"author\")` -> `\"J.K. Rowling\"` (Truthy) -> **Pass**\n",
       "3.  `book.get(\"author\")` -> `\"J.K. Rowling\"` (Truthy) -> **Pass**\n",
       "4.  `book.get(\"author\")` -> `None` (Falsy) -> **Fail** (This book is skipped)\n",
       "5.  `book.get(\"author\")` -> `None` (Falsy) -> **Fail** (This book is also skipped)\n",
       "\n",
       "So, this `if` condition is a filter to make sure we only process books that actually have an author's name.\n",
       "\n",
       "---\n",
       "\n",
       "#### Step 3: The Expression `{book.get(\"author\") ... }`\n",
       "\n",
       "This whole part is a **Set Comprehension**. You can spot it by the curly braces `{}`.\n",
       "\n",
       "*   A **set** is a collection of items where every item must be **unique**. Duplicates are automatically removed.\n",
       "*   A **comprehension** is a short-hand way to create a collection (like a list or a set) from another collection.\n",
       "\n",
       "So, for every book that passes the `if` filter, we take the result of `book.get(\"author\")` and add it to our set.\n",
       "\n",
       "Let's trace it:\n",
       "1.  First book's author: `\"J.R.R. Tolkien\"`. The set is now: `{\"J.R.R. Tolkien\"}`.\n",
       "2.  Second book's author: `\"J.K. Rowling\"`. The set is now: `{\"J.R.R. Tolkien\", \"J.K. Rowling\"}`.\n",
       "3.  Third book's author: `\"J.K. Rowling\"`. The set tries to add it, but since `\"J.K. Rowling\"` is already there, nothing changes. The set remains: `{\"J.R.R. Tolkien\", \"J.K. Rowling\"}`.\n",
       "\n",
       "After the loop is finished, the set comprehension creates this final set: `{\"J.R.R. Tolkien\", \"J.K. Rowling\"}`. Notice how the duplicate author was automatically handled!\n",
       "\n",
       "---\n",
       "\n",
       "#### Step 4: The Keyword `yield from`\n",
       "\n",
       "This is the most advanced part. It tells us this line of code is inside a special kind of function called a **generator**.\n",
       "\n",
       "*   A normal function uses `return` to send back a single, final result (like our entire set).\n",
       "*   A generator function uses `yield` to send back values one at a time, pausing in between. This is very memory-efficient for large lists because it doesn't create a giant result list in memory.\n",
       "\n",
       "What does `yield from` do?\n",
       "It's a shortcut. It says, \"Take the collection that follows (our set), loop through it, and `yield` each item from it one by one.\"\n",
       "\n",
       "So, `yield from {\"J.R.R. Tolkien\", \"J.K. Rowling\"}` is the same as writing:\n",
       "\n",
       "```python\n",
       "# Long-hand version\n",
       "the_set_of_authors = {\"J.R.R. Tolkien\", \"J.K. Rowling\"}\n",
       "for author in the_set_of_authors:\n",
       "    yield author\n",
       "```\n",
       "\n",
       "The generator will first `yield` `\"J.R.R. Tolkien\"` (or `\"J.K. Rowling\"`, as sets have no order), then pause. When asked for the next item, it will resume and `yield` the other name.\n",
       "\n",
       "### Putting It All Together (The \"Why\")\n",
       "\n",
       "So, **why use this specific line of code?**\n",
       "\n",
       "1.  **It's Safe:** `book.get(\"author\")` prevents the code from crashing if a book dictionary is missing the `\"author\"` key.\n",
       "2.  **It's Clean:** The `if book.get(\"author\")` check filters out any books without a valid author name, preventing `None` from being in your final result.\n",
       "3.  **It's Unique:** Using a set comprehension `{...}` is a simple and highly readable way to get a list of unique authors. No extra code is needed to handle duplicates.\n",
       "4.  **It's Memory-Efficient:** The `yield from` makes it part of a generator. This means it processes the books and produces the author names on-demand, one by one, instead of building a potentially huge list of all authors in memory first. This is great for working with very large datasets."
      ],
      "text/plain": [
       "<IPython.core.display.Markdown object>"
      ]
     },
     "metadata": {},
     "output_type": "display_data"
    }
   ],
   "source": [
    "# Get Llama 3.2 to answer\n",
    "get_answer(question)"
   ]
  },
  {
   "cell_type": "code",
   "execution_count": null,
   "id": "e91956f8",
   "metadata": {},
   "outputs": [],
   "source": []
  }
 ],
 "metadata": {
  "kernelspec": {
   "display_name": ".venv",
   "language": "python",
   "name": "python3"
  },
  "language_info": {
   "codemirror_mode": {
    "name": "ipython",
    "version": 3
   },
   "file_extension": ".py",
   "mimetype": "text/x-python",
   "name": "python",
   "nbconvert_exporter": "python",
   "pygments_lexer": "ipython3",
   "version": "3.12.2"
  }
 },
 "nbformat": 4,
 "nbformat_minor": 5
}
